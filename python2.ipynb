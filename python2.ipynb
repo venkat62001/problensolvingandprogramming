{
 "cells": [
  {
   "cell_type": "markdown",
   "metadata": {},
   "source": [
    "## conditional statement"
   ]
  },
  {
   "cell_type": "code",
   "execution_count": null,
   "metadata": {},
   "outputs": [],
   "source": [
    "x=10;\n",
    "if(x<15):\n",
    "    print(\"hello\")"
   ]
  },
  {
   "cell_type": "markdown",
   "metadata": {},
   "source": [
    "# if else statement"
   ]
  },
  {
   "cell_type": "code",
   "execution_count": null,
   "metadata": {},
   "outputs": [],
   "source": [
    "x=10;\n",
    "if(x>15):\n",
    "    print(\"hello good morning\")\n",
    "else:\n",
    "    print(\"hello good afternoon\")"
   ]
  },
  {
   "cell_type": "markdown",
   "metadata": {},
   "source": [
    "# example 4"
   ]
  },
  {
   "cell_type": "markdown",
   "metadata": {},
   "source": [
    "# x and y is the input and we have find large numbers between two numbers"
   ]
  },
  {
   "cell_type": "code",
   "execution_count": null,
   "metadata": {},
   "outputs": [],
   "source": [
    "x=10;\n",
    "y=20;\n",
    "if(x>y):\n",
    "    print(\"x is greater number\")\n",
    "else:\n",
    "    print(\"y is grater number\")"
   ]
  },
  {
   "cell_type": "markdown",
   "metadata": {},
   "source": [
    "# example 5"
   ]
  },
  {
   "cell_type": "markdown",
   "metadata": {},
   "source": [
    "# Need to two numbers as input if both numbers are same then output must be square a first number if not the output must be multiplication of both numbers"
   ]
  },
  {
   "cell_type": "code",
   "execution_count": null,
   "metadata": {},
   "outputs": [],
   "source": [
    "x=10;\n",
    "y=10;\n",
    "if(x==y):\n",
    "     print(x*x)\n",
    "else:\n",
    "    print(x*y)"
   ]
  },
  {
   "cell_type": "markdown",
   "metadata": {},
   "source": [
    "# example 6\n",
    "\n",
    "# only one number as input and we looking for weather given number is zero,positive or negative"
   ]
  },
  {
   "cell_type": "code",
   "execution_count": null,
   "metadata": {},
   "outputs": [],
   "source": [
    "x=-10;\n",
    "if(x<0):\n",
    "    print(\"it is negative number\")\n",
    "elif(x>0):\n",
    "    print(\"it is positive number\")\n",
    "elif(x==0):\n",
    "    print(\"it is zero\")"
   ]
  },
  {
   "cell_type": "markdown",
   "metadata": {},
   "source": [
    "# Loop statements-while\n",
    "syntax: while(condition):loop statements:Increments/Decrements\n",
    "        The loop will get executes as long as condition is returns\n",
    "        "
   ]
  },
  {
   "cell_type": "code",
   "execution_count": null,
   "metadata": {},
   "outputs": [],
   "source": [
    "n=1;\n",
    "while(n<=10):\n",
    "    print(n);\n",
    "    n=n+1;"
   ]
  },
  {
   "cell_type": "markdown",
   "metadata": {},
   "source": [
    "# example 2\n",
    "print the number from 10 t0 1"
   ]
  },
  {
   "cell_type": "code",
   "execution_count": null,
   "metadata": {},
   "outputs": [],
   "source": [
    "n=10;\n",
    "while(n>=0):\n",
    "    print(n)\n",
    "    n-=1"
   ]
  },
  {
   "cell_type": "markdown",
   "metadata": {},
   "source": [
    "# example 3\n",
    "print the numbers from -22 to -45"
   ]
  },
  {
   "cell_type": "code",
   "execution_count": null,
   "metadata": {},
   "outputs": [],
   "source": [
    "n=-22;\n",
    "while(n!=-46):\n",
    "    print(n)\n",
    "    n-=1\n"
   ]
  },
  {
   "cell_type": "markdown",
   "metadata": {},
   "source": [
    "# example 4\n",
    "print the sum of even number between 1 to 100"
   ]
  },
  {
   "cell_type": "code",
   "execution_count": 5,
   "metadata": {},
   "outputs": [
    {
     "name": "stdout",
     "output_type": "stream",
     "text": [
      "2550\n"
     ]
    }
   ],
   "source": [
    "n=1\n",
    "sum=0\n",
    "while(n<=100):\n",
    "    if(n%2==0):\n",
    "        sum=sum+n\n",
    "        n+=1\n",
    "    else:\n",
    "        n+=1\n",
    "print(sum)"
   ]
  },
  {
   "cell_type": "markdown",
   "metadata": {},
   "source": [
    "# example 5\n",
    "\n",
    "        "
   ]
  },
  {
   "cell_type": "code",
   "execution_count": null,
   "metadata": {},
   "outputs": [],
   "source": [
    "x=int"
   ]
  }
 ],
 "metadata": {
  "kernelspec": {
   "display_name": "Python 3",
   "language": "python",
   "name": "python3"
  },
  "language_info": {
   "codemirror_mode": {
    "name": "ipython",
    "version": 3
   },
   "file_extension": ".py",
   "mimetype": "text/x-python",
   "name": "python",
   "nbconvert_exporter": "python",
   "pygments_lexer": "ipython3",
   "version": "3.7.3"
  }
 },
 "nbformat": 4,
 "nbformat_minor": 2
}
